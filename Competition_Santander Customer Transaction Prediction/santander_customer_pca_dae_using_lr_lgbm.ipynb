{
  "cells": [
    {
      "cell_type": "markdown",
      "id": "3effd94e",
      "metadata": {
        "papermill": {
          "duration": 0.04155,
          "end_time": "2022-05-19T16:39:39.938893",
          "exception": false,
          "start_time": "2022-05-19T16:39:39.897343",
          "status": "completed"
        },
        "tags": [],
        "id": "3effd94e"
      },
      "source": [
        "1. [Import Libraries](#1)\n",
        "2. [Reading the Dataset](#2)\n",
        "3. [Data Pre-processing](#3)\n",
        "4. [Modeling](#4)\n",
        "    - 4.1. [Logistic Regression](#7)\n",
        "    - 4.2. [LightGBM](#8)\n",
        "    - 4.3. [Wrap-up and get the output](#9)\n",
        "5. [Conclusions](#5)\n",
        "6. [References](#6)"
      ]
    },
    {
      "cell_type": "markdown",
      "id": "23e9d668",
      "metadata": {
        "papermill": {
          "duration": 0.026531,
          "end_time": "2022-05-19T16:39:39.993901",
          "exception": false,
          "start_time": "2022-05-19T16:39:39.967370",
          "status": "completed"
        },
        "tags": [],
        "id": "23e9d668"
      },
      "source": [
        "# 1. Import Libraries <a id = 1> </a>"
      ]
    },
    {
      "cell_type": "code",
      "execution_count": null,
      "id": "8c1c955c",
      "metadata": {
        "_cell_guid": "b1076dfc-b9ad-4769-8c92-a6c4dae69d19",
        "_uuid": "8f2839f25d086af736a60e9eeb907d3b93b6e0e5",
        "execution": {
          "iopub.execute_input": "2022-05-19T16:39:40.049775Z",
          "iopub.status.busy": "2022-05-19T16:39:40.048864Z",
          "iopub.status.idle": "2022-05-19T16:39:48.563240Z",
          "shell.execute_reply": "2022-05-19T16:39:48.562475Z"
        },
        "papermill": {
          "duration": 8.544868,
          "end_time": "2022-05-19T16:39:48.565450",
          "exception": false,
          "start_time": "2022-05-19T16:39:40.020582",
          "status": "completed"
        },
        "tags": [],
        "id": "8c1c955c",
        "outputId": "32d3da00-5e28-4edb-ebe1-61811eba3501"
      },
      "outputs": [
        {
          "data": {
            "text/html": [
              "<style type='text/css'>\n",
              ".datatable table.frame { margin-bottom: 0; }\n",
              ".datatable table.frame thead { border-bottom: none; }\n",
              ".datatable table.frame tr.coltypes td {  color: #FFFFFF;  line-height: 6px;  padding: 0 0.5em;}\n",
              ".datatable .bool    { background: #DDDD99; }\n",
              ".datatable .object  { background: #565656; }\n",
              ".datatable .int     { background: #5D9E5D; }\n",
              ".datatable .float   { background: #4040CC; }\n",
              ".datatable .str     { background: #CC4040; }\n",
              ".datatable .time    { background: #40CC40; }\n",
              ".datatable .row_index {  background: var(--jp-border-color3);  border-right: 1px solid var(--jp-border-color0);  color: var(--jp-ui-font-color3);  font-size: 9px;}\n",
              ".datatable .frame tbody td { text-align: left; }\n",
              ".datatable .frame tr.coltypes .row_index {  background: var(--jp-border-color0);}\n",
              ".datatable th:nth-child(2) { padding-left: 12px; }\n",
              ".datatable .hellipsis {  color: var(--jp-cell-editor-border-color);}\n",
              ".datatable .vellipsis {  background: var(--jp-layout-color0);  color: var(--jp-cell-editor-border-color);}\n",
              ".datatable .na {  color: var(--jp-cell-editor-border-color);  font-size: 80%;}\n",
              ".datatable .sp {  opacity: 0.25;}\n",
              ".datatable .footer { font-size: 9px; }\n",
              ".datatable .frame_dimensions {  background: var(--jp-border-color3);  border-top: 1px solid var(--jp-border-color0);  color: var(--jp-ui-font-color3);  display: inline-block;  opacity: 0.6;  padding: 1px 10px 1px 5px;}\n",
              ".datatable .frame thead tr.colnames {  background-image: url('data:image/png;base64,iVBORw0KGgoAAAANSUhEUgAAABIAAAAkCAYAAACE7WrnAAAAdElEQVR42mP4wyMVQQ3M8P///whqYBSDkG2A8bGJo+tBMQifIbgMQ5ZjwGUIPjY2wxiwOZWQZrxhhM0F6IYjq8PqNWyBh4+NN7CpGv2jBo0aNGrQqEGjBtHFIIoLf5pUR2RXkFStsqnSiKBqs4bi6KdW0w8AxFl+XL1lK8wAAAAASUVORK5CYII=');  background-repeat: repeat-x;  background-size: 14px;  height: 28px;}\n",
              "</style>\n"
            ],
            "text/plain": [
              "<IPython.core.display.HTML object>"
            ]
          },
          "metadata": {},
          "output_type": "display_data"
        }
      ],
      "source": [
        "import gc\n",
        "\n",
        "import lightgbm as lgb\n",
        "\n",
        "import matplotlib.pyplot as plt\n",
        "import matplotlib.ticker as mtick\n",
        "from matplotlib.ticker import PercentFormatter\n",
        "\n",
        "import numpy as np \n",
        "\n",
        "import pandas as pd\n",
        "\n",
        "from scipy import stats\n",
        "\n",
        "import seaborn as sns\n",
        "\n",
        "from sklearn.decomposition import PCA\n",
        "from sklearn.linear_model import LogisticRegression\n",
        "from sklearn.metrics import roc_auc_score\n",
        "from sklearn.model_selection import GridSearchCV, train_test_split\n",
        "from sklearn.preprocessing import MinMaxScaler, StandardScaler\n",
        "\n",
        "import tensorflow as tf\n",
        "from tensorflow import keras\n",
        "from tensorflow.keras import Model, Sequential\n",
        "from tensorflow.keras.layers import BatchNormalization, Dense, LeakyReLU\n",
        "\n",
        "import warnings\n",
        "warnings.filterwarnings('ignore')"
      ]
    },
    {
      "cell_type": "markdown",
      "id": "7ff3d49f",
      "metadata": {
        "papermill": {
          "duration": 0.027689,
          "end_time": "2022-05-19T16:39:48.623669",
          "exception": false,
          "start_time": "2022-05-19T16:39:48.595980",
          "status": "completed"
        },
        "tags": [],
        "id": "7ff3d49f"
      },
      "source": [
        "# 2. Reading the Dataset <a id = 2> </a>"
      ]
    },
    {
      "cell_type": "markdown",
      "id": "c74284d8",
      "metadata": {
        "papermill": {
          "duration": 0.027914,
          "end_time": "2022-05-19T16:39:48.678826",
          "exception": false,
          "start_time": "2022-05-19T16:39:48.650912",
          "status": "completed"
        },
        "tags": [],
        "id": "c74284d8"
      },
      "source": [
        "#### <a href = 'https://www.kaggle.com/c/santander-customer-transaction-prediction'>Link to the dataset in Kaggle.</a>"
      ]
    },
    {
      "cell_type": "code",
      "execution_count": null,
      "id": "18094e4f",
      "metadata": {
        "execution": {
          "iopub.execute_input": "2022-05-19T16:39:48.734846Z",
          "iopub.status.busy": "2022-05-19T16:39:48.734587Z",
          "iopub.status.idle": "2022-05-19T16:40:07.308246Z",
          "shell.execute_reply": "2022-05-19T16:40:07.307509Z"
        },
        "papermill": {
          "duration": 18.603723,
          "end_time": "2022-05-19T16:40:07.310111",
          "exception": false,
          "start_time": "2022-05-19T16:39:48.706388",
          "status": "completed"
        },
        "tags": [],
        "id": "18094e4f",
        "outputId": "12aa26b3-e6b2-432b-943f-225147c4cac0"
      },
      "outputs": [
        {
          "data": {
            "text/html": [
              "<div>\n",
              "<style scoped>\n",
              "    .dataframe tbody tr th:only-of-type {\n",
              "        vertical-align: middle;\n",
              "    }\n",
              "\n",
              "    .dataframe tbody tr th {\n",
              "        vertical-align: top;\n",
              "    }\n",
              "\n",
              "    .dataframe thead th {\n",
              "        text-align: right;\n",
              "    }\n",
              "</style>\n",
              "<table border=\"1\" class=\"dataframe\">\n",
              "  <thead>\n",
              "    <tr style=\"text-align: right;\">\n",
              "      <th></th>\n",
              "      <th>ID_code</th>\n",
              "      <th>target</th>\n",
              "      <th>var_0</th>\n",
              "      <th>var_1</th>\n",
              "      <th>var_2</th>\n",
              "      <th>var_3</th>\n",
              "      <th>var_4</th>\n",
              "      <th>var_5</th>\n",
              "      <th>var_6</th>\n",
              "      <th>var_7</th>\n",
              "      <th>...</th>\n",
              "      <th>var_190</th>\n",
              "      <th>var_191</th>\n",
              "      <th>var_192</th>\n",
              "      <th>var_193</th>\n",
              "      <th>var_194</th>\n",
              "      <th>var_195</th>\n",
              "      <th>var_196</th>\n",
              "      <th>var_197</th>\n",
              "      <th>var_198</th>\n",
              "      <th>var_199</th>\n",
              "    </tr>\n",
              "  </thead>\n",
              "  <tbody>\n",
              "    <tr>\n",
              "      <th>0</th>\n",
              "      <td>train_0</td>\n",
              "      <td>0</td>\n",
              "      <td>8.9255</td>\n",
              "      <td>-6.7863</td>\n",
              "      <td>11.9081</td>\n",
              "      <td>5.0930</td>\n",
              "      <td>11.4607</td>\n",
              "      <td>-9.2834</td>\n",
              "      <td>5.1187</td>\n",
              "      <td>18.6266</td>\n",
              "      <td>...</td>\n",
              "      <td>4.4354</td>\n",
              "      <td>3.9642</td>\n",
              "      <td>3.1364</td>\n",
              "      <td>1.6910</td>\n",
              "      <td>18.5227</td>\n",
              "      <td>-2.3978</td>\n",
              "      <td>7.8784</td>\n",
              "      <td>8.5635</td>\n",
              "      <td>12.7803</td>\n",
              "      <td>-1.0914</td>\n",
              "    </tr>\n",
              "    <tr>\n",
              "      <th>1</th>\n",
              "      <td>train_1</td>\n",
              "      <td>0</td>\n",
              "      <td>11.5006</td>\n",
              "      <td>-4.1473</td>\n",
              "      <td>13.8588</td>\n",
              "      <td>5.3890</td>\n",
              "      <td>12.3622</td>\n",
              "      <td>7.0433</td>\n",
              "      <td>5.6208</td>\n",
              "      <td>16.5338</td>\n",
              "      <td>...</td>\n",
              "      <td>7.6421</td>\n",
              "      <td>7.7214</td>\n",
              "      <td>2.5837</td>\n",
              "      <td>10.9516</td>\n",
              "      <td>15.4305</td>\n",
              "      <td>2.0339</td>\n",
              "      <td>8.1267</td>\n",
              "      <td>8.7889</td>\n",
              "      <td>18.3560</td>\n",
              "      <td>1.9518</td>\n",
              "    </tr>\n",
              "    <tr>\n",
              "      <th>2</th>\n",
              "      <td>train_2</td>\n",
              "      <td>0</td>\n",
              "      <td>8.6093</td>\n",
              "      <td>-2.7457</td>\n",
              "      <td>12.0805</td>\n",
              "      <td>7.8928</td>\n",
              "      <td>10.5825</td>\n",
              "      <td>-9.0837</td>\n",
              "      <td>6.9427</td>\n",
              "      <td>14.6155</td>\n",
              "      <td>...</td>\n",
              "      <td>2.9057</td>\n",
              "      <td>9.7905</td>\n",
              "      <td>1.6704</td>\n",
              "      <td>1.6858</td>\n",
              "      <td>21.6042</td>\n",
              "      <td>3.1417</td>\n",
              "      <td>-6.5213</td>\n",
              "      <td>8.2675</td>\n",
              "      <td>14.7222</td>\n",
              "      <td>0.3965</td>\n",
              "    </tr>\n",
              "    <tr>\n",
              "      <th>3</th>\n",
              "      <td>train_3</td>\n",
              "      <td>0</td>\n",
              "      <td>11.0604</td>\n",
              "      <td>-2.1518</td>\n",
              "      <td>8.9522</td>\n",
              "      <td>7.1957</td>\n",
              "      <td>12.5846</td>\n",
              "      <td>-1.8361</td>\n",
              "      <td>5.8428</td>\n",
              "      <td>14.9250</td>\n",
              "      <td>...</td>\n",
              "      <td>4.4666</td>\n",
              "      <td>4.7433</td>\n",
              "      <td>0.7178</td>\n",
              "      <td>1.4214</td>\n",
              "      <td>23.0347</td>\n",
              "      <td>-1.2706</td>\n",
              "      <td>-2.9275</td>\n",
              "      <td>10.2922</td>\n",
              "      <td>17.9697</td>\n",
              "      <td>-8.9996</td>\n",
              "    </tr>\n",
              "    <tr>\n",
              "      <th>4</th>\n",
              "      <td>train_4</td>\n",
              "      <td>0</td>\n",
              "      <td>9.8369</td>\n",
              "      <td>-1.4834</td>\n",
              "      <td>12.8746</td>\n",
              "      <td>6.6375</td>\n",
              "      <td>12.2772</td>\n",
              "      <td>2.4486</td>\n",
              "      <td>5.9405</td>\n",
              "      <td>19.2514</td>\n",
              "      <td>...</td>\n",
              "      <td>-1.4905</td>\n",
              "      <td>9.5214</td>\n",
              "      <td>-0.1508</td>\n",
              "      <td>9.1942</td>\n",
              "      <td>13.2876</td>\n",
              "      <td>-1.5121</td>\n",
              "      <td>3.9267</td>\n",
              "      <td>9.5031</td>\n",
              "      <td>17.9974</td>\n",
              "      <td>-8.8104</td>\n",
              "    </tr>\n",
              "  </tbody>\n",
              "</table>\n",
              "<p>5 rows × 202 columns</p>\n",
              "</div>"
            ],
            "text/plain": [
              "   ID_code  target    var_0   var_1    var_2   var_3    var_4   var_5   var_6  \\\n",
              "0  train_0       0   8.9255 -6.7863  11.9081  5.0930  11.4607 -9.2834  5.1187   \n",
              "1  train_1       0  11.5006 -4.1473  13.8588  5.3890  12.3622  7.0433  5.6208   \n",
              "2  train_2       0   8.6093 -2.7457  12.0805  7.8928  10.5825 -9.0837  6.9427   \n",
              "3  train_3       0  11.0604 -2.1518   8.9522  7.1957  12.5846 -1.8361  5.8428   \n",
              "4  train_4       0   9.8369 -1.4834  12.8746  6.6375  12.2772  2.4486  5.9405   \n",
              "\n",
              "     var_7  ...  var_190  var_191  var_192  var_193  var_194  var_195  \\\n",
              "0  18.6266  ...   4.4354   3.9642   3.1364   1.6910  18.5227  -2.3978   \n",
              "1  16.5338  ...   7.6421   7.7214   2.5837  10.9516  15.4305   2.0339   \n",
              "2  14.6155  ...   2.9057   9.7905   1.6704   1.6858  21.6042   3.1417   \n",
              "3  14.9250  ...   4.4666   4.7433   0.7178   1.4214  23.0347  -1.2706   \n",
              "4  19.2514  ...  -1.4905   9.5214  -0.1508   9.1942  13.2876  -1.5121   \n",
              "\n",
              "   var_196  var_197  var_198  var_199  \n",
              "0   7.8784   8.5635  12.7803  -1.0914  \n",
              "1   8.1267   8.7889  18.3560   1.9518  \n",
              "2  -6.5213   8.2675  14.7222   0.3965  \n",
              "3  -2.9275  10.2922  17.9697  -8.9996  \n",
              "4   3.9267   9.5031  17.9974  -8.8104  \n",
              "\n",
              "[5 rows x 202 columns]"
            ]
          },
          "execution_count": 2,
          "metadata": {},
          "output_type": "execute_result"
        }
      ],
      "source": [
        "raw_train = pd.read_csv('../input/santander-customer-transaction-prediction/train.csv')\n",
        "raw_test = pd.read_csv('../input/santander-customer-transaction-prediction/test.csv')\n",
        "raw_train.head()"
      ]
    },
    {
      "cell_type": "code",
      "execution_count": null,
      "id": "359c8151",
      "metadata": {
        "execution": {
          "iopub.execute_input": "2022-05-19T16:40:07.369429Z",
          "iopub.status.busy": "2022-05-19T16:40:07.369164Z",
          "iopub.status.idle": "2022-05-19T16:40:07.805059Z",
          "shell.execute_reply": "2022-05-19T16:40:07.803149Z"
        },
        "papermill": {
          "duration": 0.466653,
          "end_time": "2022-05-19T16:40:07.806911",
          "exception": false,
          "start_time": "2022-05-19T16:40:07.340258",
          "status": "completed"
        },
        "tags": [],
        "id": "359c8151",
        "outputId": "2c7f7e9c-df90-46a2-c285-2e5139ee14b9"
      },
      "outputs": [
        {
          "name": "stdout",
          "output_type": "stream",
          "text": [
            "Shape of training dataset: (200000, 202)\n",
            "Shape of testing dataset: (200000, 201)\n",
            "--------------------\n",
            "Number of NaN values in training dataset: 0\n",
            "Number of NaN values in testing dataset: 0\n",
            "--------------------\n",
            "Number of training values that aren't float64: 0\n",
            "Number of testing values that aren't float64: 0\n"
          ]
        }
      ],
      "source": [
        "print(f'Shape of training dataset: {raw_train.shape}')\n",
        "print(f'Shape of testing dataset: {raw_test.shape}')\n",
        "print(20 * \"-\")\n",
        "print(f'Number of NaN values in training dataset: {raw_train.isnull().values.sum()}')\n",
        "print(f'Number of NaN values in testing dataset: {raw_test.isnull().values.sum()}')\n",
        "print(20 * \"-\")\n",
        "print(f\"Number of training values that aren't float64: {sum(raw_train.iloc[:, 2:].dtypes != 'float64')}\")\n",
        "print(f\"Number of testing values that aren't float64: {sum(raw_test.iloc[:, 2:].dtypes != 'float64')}\")"
      ]
    },
    {
      "cell_type": "markdown",
      "id": "f479e60a",
      "metadata": {
        "papermill": {
          "duration": 0.028232,
          "end_time": "2022-05-19T16:40:07.863290",
          "exception": false,
          "start_time": "2022-05-19T16:40:07.835058",
          "status": "completed"
        },
        "tags": [],
        "id": "f479e60a"
      },
      "source": [
        "# Data Pre-processing <a id = 3> </a>"
      ]
    },
    {
      "cell_type": "code",
      "execution_count": null,
      "id": "52c4449b",
      "metadata": {
        "execution": {
          "iopub.execute_input": "2022-05-19T16:40:07.921933Z",
          "iopub.status.busy": "2022-05-19T16:40:07.921285Z",
          "iopub.status.idle": "2022-05-19T16:40:08.155273Z",
          "shell.execute_reply": "2022-05-19T16:40:08.154502Z"
        },
        "papermill": {
          "duration": 0.26569,
          "end_time": "2022-05-19T16:40:08.157221",
          "exception": false,
          "start_time": "2022-05-19T16:40:07.891531",
          "status": "completed"
        },
        "tags": [],
        "id": "52c4449b",
        "outputId": "b8db822b-cf7f-48d4-f108-5fdb52628ad4"
      },
      "outputs": [
        {
          "data": {
            "text/plain": [
              "Text(0.5, 1.0, 'Class distribution')"
            ]
          },
          "execution_count": 4,
          "metadata": {},
          "output_type": "execute_result"
        },
        {
          "data": {
            "image/png": "[encoded data removed]",
            "text/plain": [
              "<Figure size 1584x360 with 1 Axes>"
            ]
          },
          "metadata": {
            "needs_background": "light"
          },
          "output_type": "display_data"
        }
      ],
      "source": [
        "plt.figure(figsize = (22, 5))\n",
        "sns.countplot(data = raw_train, x = 'target')\n",
        "plt.xlabel('Target', fontsize = 15)\n",
        "plt.ylabel('Count', fontsize = 15)\n",
        "plt.title('Class distribution', fontsize = 20)"
      ]
    },
    {
      "cell_type": "code",
      "execution_count": null,
      "id": "7560c261",
      "metadata": {
        "execution": {
          "iopub.execute_input": "2022-05-19T16:40:08.218046Z",
          "iopub.status.busy": "2022-05-19T16:40:08.217802Z",
          "iopub.status.idle": "2022-05-19T16:40:08.418367Z",
          "shell.execute_reply": "2022-05-19T16:40:08.417368Z"
        },
        "papermill": {
          "duration": 0.233038,
          "end_time": "2022-05-19T16:40:08.420663",
          "exception": false,
          "start_time": "2022-05-19T16:40:08.187625",
          "status": "completed"
        },
        "tags": [],
        "id": "7560c261",
        "outputId": "69f51923-a4fe-4489-de0d-5b43efe674d0"
      },
      "outputs": [
        {
          "name": "stdout",
          "output_type": "stream",
          "text": [
            "Number of samples belonging to class zero: 179902 (89.95% of total)\n",
            "Number of samples belonging to class one: 20098 (10.05% of total)\n"
          ]
        }
      ],
      "source": [
        "num_0, num_1 = np.bincount(raw_train['target'])\n",
        "print(f'Number of samples belonging to class zero: {num_0} ({num_0 / raw_train.shape[0]:0.2%} of total)')\n",
        "print(f'Number of samples belonging to class one: {num_1} ({num_1 / raw_train.shape[0]:0.2%} of total)')\n",
        "\n",
        "del num_0, num_1\n",
        "_ = gc.collect()"
      ]
    },
    {
      "cell_type": "code",
      "execution_count": null,
      "id": "552d5004",
      "metadata": {
        "execution": {
          "iopub.execute_input": "2022-05-19T16:40:08.483441Z",
          "iopub.status.busy": "2022-05-19T16:40:08.482717Z",
          "iopub.status.idle": "2022-05-19T16:40:09.601460Z",
          "shell.execute_reply": "2022-05-19T16:40:09.600714Z"
        },
        "papermill": {
          "duration": 1.152066,
          "end_time": "2022-05-19T16:40:09.603936",
          "exception": false,
          "start_time": "2022-05-19T16:40:08.451870",
          "status": "completed"
        },
        "tags": [],
        "id": "552d5004",
        "outputId": "4febbeef-603b-469b-d02c-5b8fa8990beb"
      },
      "outputs": [
        {
          "data": {
            "text/html": [
              "<div>\n",
              "<style scoped>\n",
              "    .dataframe tbody tr th:only-of-type {\n",
              "        vertical-align: middle;\n",
              "    }\n",
              "\n",
              "    .dataframe tbody tr th {\n",
              "        vertical-align: top;\n",
              "    }\n",
              "\n",
              "    .dataframe thead th {\n",
              "        text-align: right;\n",
              "    }\n",
              "</style>\n",
              "<table border=\"1\" class=\"dataframe\">\n",
              "  <thead>\n",
              "    <tr style=\"text-align: right;\">\n",
              "      <th></th>\n",
              "      <th>var_0</th>\n",
              "      <th>var_1</th>\n",
              "      <th>var_2</th>\n",
              "      <th>var_3</th>\n",
              "      <th>var_4</th>\n",
              "      <th>var_5</th>\n",
              "      <th>var_6</th>\n",
              "      <th>var_7</th>\n",
              "      <th>var_8</th>\n",
              "      <th>var_9</th>\n",
              "      <th>...</th>\n",
              "      <th>var_190</th>\n",
              "      <th>var_191</th>\n",
              "      <th>var_192</th>\n",
              "      <th>var_193</th>\n",
              "      <th>var_194</th>\n",
              "      <th>var_195</th>\n",
              "      <th>var_196</th>\n",
              "      <th>var_197</th>\n",
              "      <th>var_198</th>\n",
              "      <th>var_199</th>\n",
              "    </tr>\n",
              "  </thead>\n",
              "  <tbody>\n",
              "    <tr>\n",
              "      <th>0</th>\n",
              "      <td>8.9255</td>\n",
              "      <td>-6.7863</td>\n",
              "      <td>11.9081</td>\n",
              "      <td>5.0930</td>\n",
              "      <td>11.4607</td>\n",
              "      <td>-9.2834</td>\n",
              "      <td>5.1187</td>\n",
              "      <td>18.6266</td>\n",
              "      <td>-4.9200</td>\n",
              "      <td>5.7470</td>\n",
              "      <td>...</td>\n",
              "      <td>4.4354</td>\n",
              "      <td>3.9642</td>\n",
              "      <td>3.1364</td>\n",
              "      <td>1.6910</td>\n",
              "      <td>18.5227</td>\n",
              "      <td>-2.3978</td>\n",
              "      <td>7.8784</td>\n",
              "      <td>8.5635</td>\n",
              "      <td>12.7803</td>\n",
              "      <td>-1.0914</td>\n",
              "    </tr>\n",
              "    <tr>\n",
              "      <th>1</th>\n",
              "      <td>11.5006</td>\n",
              "      <td>-4.1473</td>\n",
              "      <td>13.8588</td>\n",
              "      <td>5.3890</td>\n",
              "      <td>12.3622</td>\n",
              "      <td>7.0433</td>\n",
              "      <td>5.6208</td>\n",
              "      <td>16.5338</td>\n",
              "      <td>3.1468</td>\n",
              "      <td>8.0851</td>\n",
              "      <td>...</td>\n",
              "      <td>7.6421</td>\n",
              "      <td>7.7214</td>\n",
              "      <td>2.5837</td>\n",
              "      <td>10.9516</td>\n",
              "      <td>15.4305</td>\n",
              "      <td>2.0339</td>\n",
              "      <td>8.1267</td>\n",
              "      <td>8.7889</td>\n",
              "      <td>18.3560</td>\n",
              "      <td>1.9518</td>\n",
              "    </tr>\n",
              "    <tr>\n",
              "      <th>2</th>\n",
              "      <td>8.6093</td>\n",
              "      <td>-2.7457</td>\n",
              "      <td>12.0805</td>\n",
              "      <td>7.8928</td>\n",
              "      <td>10.5825</td>\n",
              "      <td>-9.0837</td>\n",
              "      <td>6.9427</td>\n",
              "      <td>14.6155</td>\n",
              "      <td>-4.9193</td>\n",
              "      <td>5.9525</td>\n",
              "      <td>...</td>\n",
              "      <td>2.9057</td>\n",
              "      <td>9.7905</td>\n",
              "      <td>1.6704</td>\n",
              "      <td>1.6858</td>\n",
              "      <td>21.6042</td>\n",
              "      <td>3.1417</td>\n",
              "      <td>-6.5213</td>\n",
              "      <td>8.2675</td>\n",
              "      <td>14.7222</td>\n",
              "      <td>0.3965</td>\n",
              "    </tr>\n",
              "    <tr>\n",
              "      <th>3</th>\n",
              "      <td>11.0604</td>\n",
              "      <td>-2.1518</td>\n",
              "      <td>8.9522</td>\n",
              "      <td>7.1957</td>\n",
              "      <td>12.5846</td>\n",
              "      <td>-1.8361</td>\n",
              "      <td>5.8428</td>\n",
              "      <td>14.9250</td>\n",
              "      <td>-5.8609</td>\n",
              "      <td>8.2450</td>\n",
              "      <td>...</td>\n",
              "      <td>4.4666</td>\n",
              "      <td>4.7433</td>\n",
              "      <td>0.7178</td>\n",
              "      <td>1.4214</td>\n",
              "      <td>23.0347</td>\n",
              "      <td>-1.2706</td>\n",
              "      <td>-2.9275</td>\n",
              "      <td>10.2922</td>\n",
              "      <td>17.9697</td>\n",
              "      <td>-8.9996</td>\n",
              "    </tr>\n",
              "    <tr>\n",
              "      <th>4</th>\n",
              "      <td>9.8369</td>\n",
              "      <td>-1.4834</td>\n",
              "      <td>12.8746</td>\n",
              "      <td>6.6375</td>\n",
              "      <td>12.2772</td>\n",
              "      <td>2.4486</td>\n",
              "      <td>5.9405</td>\n",
              "      <td>19.2514</td>\n",
              "      <td>6.2654</td>\n",
              "      <td>7.6784</td>\n",
              "      <td>...</td>\n",
              "      <td>-1.4905</td>\n",
              "      <td>9.5214</td>\n",
              "      <td>-0.1508</td>\n",
              "      <td>9.1942</td>\n",
              "      <td>13.2876</td>\n",
              "      <td>-1.5121</td>\n",
              "      <td>3.9267</td>\n",
              "      <td>9.5031</td>\n",
              "      <td>17.9974</td>\n",
              "      <td>-8.8104</td>\n",
              "    </tr>\n",
              "  </tbody>\n",
              "</table>\n",
              "<p>5 rows × 200 columns</p>\n",
              "</div>"
            ],
            "text/plain": [
              "     var_0   var_1    var_2   var_3    var_4   var_5   var_6    var_7   var_8  \\\n",
              "0   8.9255 -6.7863  11.9081  5.0930  11.4607 -9.2834  5.1187  18.6266 -4.9200   \n",
              "1  11.5006 -4.1473  13.8588  5.3890  12.3622  7.0433  5.6208  16.5338  3.1468   \n",
              "2   8.6093 -2.7457  12.0805  7.8928  10.5825 -9.0837  6.9427  14.6155 -4.9193   \n",
              "3  11.0604 -2.1518   8.9522  7.1957  12.5846 -1.8361  5.8428  14.9250 -5.8609   \n",
              "4   9.8369 -1.4834  12.8746  6.6375  12.2772  2.4486  5.9405  19.2514  6.2654   \n",
              "\n",
              "    var_9  ...  var_190  var_191  var_192  var_193  var_194  var_195  var_196  \\\n",
              "0  5.7470  ...   4.4354   3.9642   3.1364   1.6910  18.5227  -2.3978   7.8784   \n",
              "1  8.0851  ...   7.6421   7.7214   2.5837  10.9516  15.4305   2.0339   8.1267   \n",
              "2  5.9525  ...   2.9057   9.7905   1.6704   1.6858  21.6042   3.1417  -6.5213   \n",
              "3  8.2450  ...   4.4666   4.7433   0.7178   1.4214  23.0347  -1.2706  -2.9275   \n",
              "4  7.6784  ...  -1.4905   9.5214  -0.1508   9.1942  13.2876  -1.5121   3.9267   \n",
              "\n",
              "   var_197  var_198  var_199  \n",
              "0   8.5635  12.7803  -1.0914  \n",
              "1   8.7889  18.3560   1.9518  \n",
              "2   8.2675  14.7222   0.3965  \n",
              "3  10.2922  17.9697  -8.9996  \n",
              "4   9.5031  17.9974  -8.8104  \n",
              "\n",
              "[5 rows x 200 columns]"
            ]
          },
          "execution_count": 6,
          "metadata": {},
          "output_type": "execute_result"
        }
      ],
      "source": [
        "y = raw_train['target']\n",
        "train_len = len(raw_train)\n",
        "id_test = raw_test['ID_code']\n",
        "\n",
        "merged_df = pd.concat([raw_train, raw_test], axis = 0).drop(columns = ['ID_code', 'target'])\n",
        "\n",
        "del raw_train, raw_test\n",
        "_ = gc.collect()\n",
        "\n",
        "merged_df.head()"
      ]
    },
    {
      "cell_type": "code",
      "execution_count": null,
      "id": "756241ee",
      "metadata": {
        "execution": {
          "iopub.execute_input": "2022-05-19T16:40:09.720139Z",
          "iopub.status.busy": "2022-05-19T16:40:09.719724Z",
          "iopub.status.idle": "2022-05-19T16:40:10.757908Z",
          "shell.execute_reply": "2022-05-19T16:40:10.757163Z"
        },
        "papermill": {
          "duration": 1.090964,
          "end_time": "2022-05-19T16:40:10.760240",
          "exception": false,
          "start_time": "2022-05-19T16:40:09.669276",
          "status": "completed"
        },
        "tags": [],
        "id": "756241ee"
      },
      "outputs": [],
      "source": [
        "merged_minmax = MinMaxScaler().fit_transform(merged_df)\n",
        "merged_minmax_df = pd.DataFrame(merged_minmax)\n",
        "merged_minmax_df = merged_minmax_df.add_prefix('var_')"
      ]
    },
    {
      "cell_type": "code",
      "execution_count": null,
      "id": "e7360d79",
      "metadata": {
        "execution": {
          "iopub.execute_input": "2022-05-19T16:40:10.822069Z",
          "iopub.status.busy": "2022-05-19T16:40:10.821644Z",
          "iopub.status.idle": "2022-05-19T16:40:16.380836Z",
          "shell.execute_reply": "2022-05-19T16:40:16.380045Z"
        },
        "papermill": {
          "duration": 5.593135,
          "end_time": "2022-05-19T16:40:16.383485",
          "exception": false,
          "start_time": "2022-05-19T16:40:10.790350",
          "status": "completed"
        },
        "tags": [],
        "id": "e7360d79",
        "outputId": "d5dc8c28-4e49-48c5-8236-f6d6c2561e70"
      },
      "outputs": [
        {
          "data": {
            "image/png": "[encoded data removed]",
            "text/plain": [
              "<Figure size 1584x720 with 3 Axes>"
            ]
          },
          "metadata": {
            "needs_background": "light"
          },
          "output_type": "display_data"
        }
      ],
      "source": [
        "def stat_detector(df):\n",
        "    \n",
        "    '''\n",
        "    argument:\n",
        "        df: a DataFrame.\n",
        "    outputs:\n",
        "        outlier_mask: 0-1 mask; 0: not outlier, 1: is outlier.\n",
        "        Three plot about mean values, std values and outliers for each feature. \n",
        "    '''\n",
        "    plt.figure(figsize=(22, 10))\n",
        "    \n",
        "    ax1 = plt.subplot2grid((22, 22), (0, 0), rowspan = 9, colspan = 10)\n",
        "    \n",
        "    plt.title(f'Distribution of mean values for each feature', fontsize = 20)\n",
        "    ax1 = sns.distplot(df.mean(), kde = True, bins = 50, color = 'red')\n",
        "    plt.ylabel('density', fontsize = 15)\n",
        "\n",
        "    ax2 = plt.subplot2grid((22, 22), (0, 12), rowspan = 9, colspan = 10)\n",
        "    \n",
        "    plt.title(f'Distribution of standard deviation values for each feature', fontsize = 20)\n",
        "    ax2 = sns.distplot(df.std(), kde = True, bins = 50, color = 'green')\n",
        "    plt.ylabel('density', fontsize = 15)\n",
        "\n",
        "    ax3 = plt.subplot2grid((22, 22), (11, 0), rowspan = 11, colspan = 22)\n",
        "\n",
        "    total_data = df.shape[0] * df.shape[1]\n",
        "\n",
        "    outlier_mask = (np.abs(stats.zscore(df)) > 3.0) * 1\n",
        "    sum_outlier_col = outlier_mask.sum()\n",
        "    total_outlier = sum(sum_outlier_col)\n",
        "    outlier_share = (total_outlier / total_data) * 100\n",
        "    share_outlier_col = (sum_outlier_col / df.shape[0]) * 100\n",
        "\n",
        "    ax3 = plt.axhline(y = outlier_share, color = 'red', linestyle = '--', label = 'Average')\n",
        "    ax3 = share_outlier_col.plot.bar()\n",
        "    plt.title(f'Percentage of outliers for each feature', fontsize = 20)\n",
        "    plt.suptitle(f'total samples: {total_data:,}, total outliers: {total_outlier:,}, share of outliers from total data: {outlier_share:0.3}%',\n",
        "                 y = 0.48, fontsize = 15)\n",
        "    plt.xlabel('Features', fontsize = 15)\n",
        "    plt.ylabel('% of outliers', fontsize = 15)\n",
        "    plt.legend(['Average'], fontsize = 15)\n",
        "    plt.xticks([])\n",
        "    ax3.yaxis.set_major_formatter(mtick.PercentFormatter(decimals = 3))\n",
        "\n",
        "    return outlier_mask\n",
        "\n",
        "_ = stat_detector(merged_minmax_df)"
      ]
    },
    {
      "cell_type": "code",
      "execution_count": null,
      "id": "c236d668",
      "metadata": {
        "execution": {
          "iopub.execute_input": "2022-05-19T16:40:16.450741Z",
          "iopub.status.busy": "2022-05-19T16:40:16.450063Z",
          "iopub.status.idle": "2022-05-19T16:40:16.471536Z",
          "shell.execute_reply": "2022-05-19T16:40:16.470842Z"
        },
        "papermill": {
          "duration": 0.057557,
          "end_time": "2022-05-19T16:40:16.473715",
          "exception": false,
          "start_time": "2022-05-19T16:40:16.416158",
          "status": "completed"
        },
        "tags": [],
        "id": "c236d668",
        "outputId": "fe3ab144-8636-4a0f-f071-61ee1f9f54b1"
      },
      "outputs": [
        {
          "data": {
            "text/html": [
              "<div>\n",
              "<style scoped>\n",
              "    .dataframe tbody tr th:only-of-type {\n",
              "        vertical-align: middle;\n",
              "    }\n",
              "\n",
              "    .dataframe tbody tr th {\n",
              "        vertical-align: top;\n",
              "    }\n",
              "\n",
              "    .dataframe thead th {\n",
              "        text-align: right;\n",
              "    }\n",
              "</style>\n",
              "<table border=\"1\" class=\"dataframe\">\n",
              "  <thead>\n",
              "    <tr style=\"text-align: right;\">\n",
              "      <th></th>\n",
              "      <th>var_0</th>\n",
              "      <th>var_1</th>\n",
              "      <th>var_2</th>\n",
              "      <th>var_3</th>\n",
              "      <th>var_4</th>\n",
              "      <th>var_5</th>\n",
              "      <th>var_6</th>\n",
              "      <th>var_7</th>\n",
              "      <th>var_8</th>\n",
              "      <th>var_9</th>\n",
              "      <th>...</th>\n",
              "      <th>var_190</th>\n",
              "      <th>var_191</th>\n",
              "      <th>var_192</th>\n",
              "      <th>var_193</th>\n",
              "      <th>var_194</th>\n",
              "      <th>var_195</th>\n",
              "      <th>var_196</th>\n",
              "      <th>var_197</th>\n",
              "      <th>var_198</th>\n",
              "      <th>var_199</th>\n",
              "    </tr>\n",
              "  </thead>\n",
              "  <tbody>\n",
              "    <tr>\n",
              "      <th>0</th>\n",
              "      <td>0.394711</td>\n",
              "      <td>0.324824</td>\n",
              "      <td>0.568059</td>\n",
              "      <td>0.388041</td>\n",
              "      <td>0.550670</td>\n",
              "      <td>0.467301</td>\n",
              "      <td>0.465762</td>\n",
              "      <td>0.578688</td>\n",
              "      <td>0.270395</td>\n",
              "      <td>0.247420</td>\n",
              "      <td>...</td>\n",
              "      <td>0.537807</td>\n",
              "      <td>0.342943</td>\n",
              "      <td>0.568958</td>\n",
              "      <td>0.448173</td>\n",
              "      <td>0.510471</td>\n",
              "      <td>0.291973</td>\n",
              "      <td>0.678981</td>\n",
              "      <td>0.412164</td>\n",
              "      <td>0.320222</td>\n",
              "      <td>0.564556</td>\n",
              "    </tr>\n",
              "    <tr>\n",
              "      <th>1</th>\n",
              "      <td>0.511048</td>\n",
              "      <td>0.428639</td>\n",
              "      <td>0.681235</td>\n",
              "      <td>0.410417</td>\n",
              "      <td>0.628408</td>\n",
              "      <td>0.795039</td>\n",
              "      <td>0.546339</td>\n",
              "      <td>0.487471</td>\n",
              "      <td>0.660911</td>\n",
              "      <td>0.573056</td>\n",
              "      <td>...</td>\n",
              "      <td>0.630884</td>\n",
              "      <td>0.536531</td>\n",
              "      <td>0.523717</td>\n",
              "      <td>0.756190</td>\n",
              "      <td>0.349865</td>\n",
              "      <td>0.743892</td>\n",
              "      <td>0.686614</td>\n",
              "      <td>0.447856</td>\n",
              "      <td>0.595713</td>\n",
              "      <td>0.609337</td>\n",
              "    </tr>\n",
              "    <tr>\n",
              "      <th>2</th>\n",
              "      <td>0.380425</td>\n",
              "      <td>0.483777</td>\n",
              "      <td>0.578061</td>\n",
              "      <td>0.599690</td>\n",
              "      <td>0.474941</td>\n",
              "      <td>0.471310</td>\n",
              "      <td>0.758477</td>\n",
              "      <td>0.403860</td>\n",
              "      <td>0.270429</td>\n",
              "      <td>0.276041</td>\n",
              "      <td>...</td>\n",
              "      <td>0.493407</td>\n",
              "      <td>0.643141</td>\n",
              "      <td>0.448960</td>\n",
              "      <td>0.448000</td>\n",
              "      <td>0.670521</td>\n",
              "      <td>0.856859</td>\n",
              "      <td>0.236337</td>\n",
              "      <td>0.365293</td>\n",
              "      <td>0.416170</td>\n",
              "      <td>0.586451</td>\n",
              "    </tr>\n",
              "    <tr>\n",
              "      <th>3</th>\n",
              "      <td>0.491161</td>\n",
              "      <td>0.507140</td>\n",
              "      <td>0.396562</td>\n",
              "      <td>0.546993</td>\n",
              "      <td>0.647586</td>\n",
              "      <td>0.616796</td>\n",
              "      <td>0.581965</td>\n",
              "      <td>0.417350</td>\n",
              "      <td>0.224846</td>\n",
              "      <td>0.595326</td>\n",
              "      <td>...</td>\n",
              "      <td>0.538713</td>\n",
              "      <td>0.383085</td>\n",
              "      <td>0.370986</td>\n",
              "      <td>0.439205</td>\n",
              "      <td>0.744819</td>\n",
              "      <td>0.406918</td>\n",
              "      <td>0.346810</td>\n",
              "      <td>0.685901</td>\n",
              "      <td>0.576626</td>\n",
              "      <td>0.448188</td>\n",
              "    </tr>\n",
              "    <tr>\n",
              "      <th>4</th>\n",
              "      <td>0.435886</td>\n",
              "      <td>0.533434</td>\n",
              "      <td>0.624133</td>\n",
              "      <td>0.504796</td>\n",
              "      <td>0.621079</td>\n",
              "      <td>0.702806</td>\n",
              "      <td>0.597644</td>\n",
              "      <td>0.605921</td>\n",
              "      <td>0.811883</td>\n",
              "      <td>0.516413</td>\n",
              "      <td>...</td>\n",
              "      <td>0.365804</td>\n",
              "      <td>0.629275</td>\n",
              "      <td>0.299888</td>\n",
              "      <td>0.697737</td>\n",
              "      <td>0.238566</td>\n",
              "      <td>0.382291</td>\n",
              "      <td>0.557507</td>\n",
              "      <td>0.560948</td>\n",
              "      <td>0.577995</td>\n",
              "      <td>0.450972</td>\n",
              "    </tr>\n",
              "  </tbody>\n",
              "</table>\n",
              "<p>5 rows × 200 columns</p>\n",
              "</div>"
            ],
            "text/plain": [
              "      var_0     var_1     var_2     var_3     var_4     var_5     var_6  \\\n",
              "0  0.394711  0.324824  0.568059  0.388041  0.550670  0.467301  0.465762   \n",
              "1  0.511048  0.428639  0.681235  0.410417  0.628408  0.795039  0.546339   \n",
              "2  0.380425  0.483777  0.578061  0.599690  0.474941  0.471310  0.758477   \n",
              "3  0.491161  0.507140  0.396562  0.546993  0.647586  0.616796  0.581965   \n",
              "4  0.435886  0.533434  0.624133  0.504796  0.621079  0.702806  0.597644   \n",
              "\n",
              "      var_7     var_8     var_9  ...   var_190   var_191   var_192   var_193  \\\n",
              "0  0.578688  0.270395  0.247420  ...  0.537807  0.342943  0.568958  0.448173   \n",
              "1  0.487471  0.660911  0.573056  ...  0.630884  0.536531  0.523717  0.756190   \n",
              "2  0.403860  0.270429  0.276041  ...  0.493407  0.643141  0.448960  0.448000   \n",
              "3  0.417350  0.224846  0.595326  ...  0.538713  0.383085  0.370986  0.439205   \n",
              "4  0.605921  0.811883  0.516413  ...  0.365804  0.629275  0.299888  0.697737   \n",
              "\n",
              "    var_194   var_195   var_196   var_197   var_198   var_199  \n",
              "0  0.510471  0.291973  0.678981  0.412164  0.320222  0.564556  \n",
              "1  0.349865  0.743892  0.686614  0.447856  0.595713  0.609337  \n",
              "2  0.670521  0.856859  0.236337  0.365293  0.416170  0.586451  \n",
              "3  0.744819  0.406918  0.346810  0.685901  0.576626  0.448188  \n",
              "4  0.238566  0.382291  0.557507  0.560948  0.577995  0.450972  \n",
              "\n",
              "[5 rows x 200 columns]"
            ]
          },
          "execution_count": 9,
          "metadata": {},
          "output_type": "execute_result"
        }
      ],
      "source": [
        "merged_minmax_df.head(5)"
      ]
    },
    {
      "cell_type": "markdown",
      "id": "479b214e",
      "metadata": {
        "papermill": {
          "duration": 0.033396,
          "end_time": "2022-05-19T16:40:16.542452",
          "exception": false,
          "start_time": "2022-05-19T16:40:16.509056",
          "status": "completed"
        },
        "tags": [],
        "id": "479b214e"
      },
      "source": [
        "In the first step, the dataset is scaled. Then, 64 features are added to the dataset in two steps. Data obtained from PCA is first added, followed by data received from Denoising Autoencoder. \n",
        "\n",
        "|method|Number of initial features|Number of features after transformation|\n",
        "|:-:|:-:|:-:|\n",
        "|Scaled dataset|200|200|\n",
        "|Scaled dataset + PCA|200|232|\n",
        "|Scaled dataset + PCA + DAE|232|264|\n"
      ]
    },
    {
      "cell_type": "code",
      "execution_count": null,
      "id": "f08a7794",
      "metadata": {
        "execution": {
          "iopub.execute_input": "2022-05-19T16:40:16.610476Z",
          "iopub.status.busy": "2022-05-19T16:40:16.609921Z",
          "iopub.status.idle": "2022-05-19T16:40:30.054266Z",
          "shell.execute_reply": "2022-05-19T16:40:30.053508Z"
        },
        "papermill": {
          "duration": 13.480499,
          "end_time": "2022-05-19T16:40:30.056210",
          "exception": false,
          "start_time": "2022-05-19T16:40:16.575711",
          "status": "completed"
        },
        "tags": [],
        "id": "f08a7794",
        "outputId": "9881c45b-7975-4f2b-9447-61d32dae1169"
      },
      "outputs": [
        {
          "name": "stdout",
          "output_type": "stream",
          "text": [
            "Shape of dataset after transformation using PCA: (400000, 32)\n",
            "Shape of dataset after concatenating: (400000, 232)\n",
            "\n"
          ]
        },
        {
          "data": {
            "text/html": [
              "<div>\n",
              "<style scoped>\n",
              "    .dataframe tbody tr th:only-of-type {\n",
              "        vertical-align: middle;\n",
              "    }\n",
              "\n",
              "    .dataframe tbody tr th {\n",
              "        vertical-align: top;\n",
              "    }\n",
              "\n",
              "    .dataframe thead th {\n",
              "        text-align: right;\n",
              "    }\n",
              "</style>\n",
              "<table border=\"1\" class=\"dataframe\">\n",
              "  <thead>\n",
              "    <tr style=\"text-align: right;\">\n",
              "      <th></th>\n",
              "      <th>var_0</th>\n",
              "      <th>var_1</th>\n",
              "      <th>var_2</th>\n",
              "      <th>var_3</th>\n",
              "      <th>var_4</th>\n",
              "      <th>var_5</th>\n",
              "      <th>var_6</th>\n",
              "      <th>var_7</th>\n",
              "      <th>var_8</th>\n",
              "      <th>var_9</th>\n",
              "      <th>...</th>\n",
              "      <th>pca_22</th>\n",
              "      <th>pca_23</th>\n",
              "      <th>pca_24</th>\n",
              "      <th>pca_25</th>\n",
              "      <th>pca_26</th>\n",
              "      <th>pca_27</th>\n",
              "      <th>pca_28</th>\n",
              "      <th>pca_29</th>\n",
              "      <th>pca_30</th>\n",
              "      <th>pca_31</th>\n",
              "    </tr>\n",
              "  </thead>\n",
              "  <tbody>\n",
              "    <tr>\n",
              "      <th>0</th>\n",
              "      <td>0.394711</td>\n",
              "      <td>0.324824</td>\n",
              "      <td>0.568059</td>\n",
              "      <td>0.388041</td>\n",
              "      <td>0.550670</td>\n",
              "      <td>0.467301</td>\n",
              "      <td>0.465762</td>\n",
              "      <td>0.578688</td>\n",
              "      <td>0.270395</td>\n",
              "      <td>0.247420</td>\n",
              "      <td>...</td>\n",
              "      <td>0.477187</td>\n",
              "      <td>0.728156</td>\n",
              "      <td>0.445331</td>\n",
              "      <td>0.735298</td>\n",
              "      <td>0.346019</td>\n",
              "      <td>0.615466</td>\n",
              "      <td>0.635954</td>\n",
              "      <td>0.540962</td>\n",
              "      <td>0.260101</td>\n",
              "      <td>0.458066</td>\n",
              "    </tr>\n",
              "    <tr>\n",
              "      <th>1</th>\n",
              "      <td>0.511048</td>\n",
              "      <td>0.428639</td>\n",
              "      <td>0.681235</td>\n",
              "      <td>0.410417</td>\n",
              "      <td>0.628408</td>\n",
              "      <td>0.795039</td>\n",
              "      <td>0.546339</td>\n",
              "      <td>0.487471</td>\n",
              "      <td>0.660911</td>\n",
              "      <td>0.573056</td>\n",
              "      <td>...</td>\n",
              "      <td>0.513585</td>\n",
              "      <td>0.559845</td>\n",
              "      <td>0.690256</td>\n",
              "      <td>0.522545</td>\n",
              "      <td>0.476781</td>\n",
              "      <td>0.498248</td>\n",
              "      <td>0.303713</td>\n",
              "      <td>0.371866</td>\n",
              "      <td>0.452967</td>\n",
              "      <td>0.704266</td>\n",
              "    </tr>\n",
              "  </tbody>\n",
              "</table>\n",
              "<p>2 rows × 232 columns</p>\n",
              "</div>"
            ],
            "text/plain": [
              "      var_0     var_1     var_2     var_3     var_4     var_5     var_6  \\\n",
              "0  0.394711  0.324824  0.568059  0.388041  0.550670  0.467301  0.465762   \n",
              "1  0.511048  0.428639  0.681235  0.410417  0.628408  0.795039  0.546339   \n",
              "\n",
              "      var_7     var_8     var_9  ...    pca_22    pca_23    pca_24    pca_25  \\\n",
              "0  0.578688  0.270395  0.247420  ...  0.477187  0.728156  0.445331  0.735298   \n",
              "1  0.487471  0.660911  0.573056  ...  0.513585  0.559845  0.690256  0.522545   \n",
              "\n",
              "     pca_26    pca_27    pca_28    pca_29    pca_30    pca_31  \n",
              "0  0.346019  0.615466  0.635954  0.540962  0.260101  0.458066  \n",
              "1  0.476781  0.498248  0.303713  0.371866  0.452967  0.704266  \n",
              "\n",
              "[2 rows x 232 columns]"
            ]
          },
          "execution_count": 10,
          "metadata": {},
          "output_type": "execute_result"
        }
      ],
      "source": [
        "merged_pca = PCA(n_components = 0.2, random_state = 0).fit_transform(merged_minmax)\n",
        "merged_pca_scaled = MinMaxScaler().fit_transform(merged_pca)\n",
        "merged_pca_df = pd.DataFrame(merged_pca_scaled)\n",
        "merged_pca_df = merged_pca_df.add_prefix('pca_')\n",
        "print(f'Shape of dataset after transformation using PCA: {merged_pca.shape}')\n",
        "\n",
        "merged_minmax_pca_df = pd.concat([merged_minmax_df, merged_pca_df], axis = 1)\n",
        "print(f'Shape of dataset after concatenating: {merged_minmax_pca_df.shape}\\n')\n",
        "\n",
        "del merged_minmax, merged_minmax_df, merged_pca, merged_pca_scaled #merged_minmax_df\n",
        "_ = gc.collect()\n",
        "\n",
        "merged_minmax_pca_df.head(2)"
      ]
    },
    {
      "cell_type": "code",
      "execution_count": null,
      "id": "3496c77b",
      "metadata": {
        "execution": {
          "iopub.execute_input": "2022-05-19T16:40:30.135264Z",
          "iopub.status.busy": "2022-05-19T16:40:30.134995Z",
          "iopub.status.idle": "2022-05-19T16:40:36.840657Z",
          "shell.execute_reply": "2022-05-19T16:40:36.839946Z"
        },
        "papermill": {
          "duration": 6.74691,
          "end_time": "2022-05-19T16:40:36.843134",
          "exception": false,
          "start_time": "2022-05-19T16:40:30.096224",
          "status": "completed"
        },
        "tags": [],
        "id": "3496c77b",
        "outputId": "7cdcddb3-b2bf-4768-d26a-ea09a5287009"
      },
      "outputs": [
        {
          "data": {
            "image/png": "[encoded data removed]",
            "text/plain": [
              "<Figure size 1584x720 with 3 Axes>"
            ]
          },
          "metadata": {
            "needs_background": "light"
          },
          "output_type": "display_data"
        }
      ],
      "source": [
        "_ = stat_detector(merged_minmax_pca_df)"
      ]
    },
    {
      "cell_type": "code",
      "execution_count": null,
      "id": "a93ff786",
      "metadata": {
        "execution": {
          "iopub.execute_input": "2022-05-19T16:40:36.966521Z",
          "iopub.status.busy": "2022-05-19T16:40:36.966201Z",
          "iopub.status.idle": "2022-05-19T16:40:39.343187Z",
          "shell.execute_reply": "2022-05-19T16:40:39.341993Z"
        },
        "papermill": {
          "duration": 2.441728,
          "end_time": "2022-05-19T16:40:39.344946",
          "exception": false,
          "start_time": "2022-05-19T16:40:36.903218",
          "status": "completed"
        },
        "tags": [],
        "id": "a93ff786",
        "outputId": "c0a97211-1da4-4f04-c865-9b8dcaea9457"
      },
      "outputs": [
        {
          "name": "stderr",
          "output_type": "stream",
          "text": [
            "2022-05-19 16:40:37.081627: I tensorflow/stream_executor/cuda/cuda_gpu_executor.cc:937] successful NUMA node read from SysFS had negative value (-1), but there must be at least one NUMA node, so returning NUMA node zero\n"
          ]
        },
        {
          "name": "stdout",
          "output_type": "stream",
          "text": [
            "Model: \"model\"\n",
            "_________________________________________________________________\n",
            "Layer (type)                 Output Shape              Param #   \n",
            "=================================================================\n",
            "dense_input (InputLayer)     [(None, 32)]              0         \n",
            "_________________________________________________________________\n",
            "dense (Dense)                (None, 64)                2112      \n",
            "_________________________________________________________________\n",
            "batch_normalization (BatchNo (None, 64)                256       \n",
            "_________________________________________________________________\n",
            "leaky_re_lu (LeakyReLU)      (None, 64)                0         \n",
            "_________________________________________________________________\n",
            "dense_1 (Dense)              (None, 32)                2080      \n",
            "_________________________________________________________________\n",
            "batch_normalization_1 (Batch (None, 32)                128       \n",
            "_________________________________________________________________\n",
            "leaky_re_lu_1 (LeakyReLU)    (None, 32)                0         \n",
            "_________________________________________________________________\n",
            "dense_2 (Dense)              (None, 16)                528       \n",
            "_________________________________________________________________\n",
            "dense_3 (Dense)              (None, 32)                544       \n",
            "_________________________________________________________________\n",
            "batch_normalization_2 (Batch (None, 32)                128       \n",
            "_________________________________________________________________\n",
            "leaky_re_lu_2 (LeakyReLU)    (None, 32)                0         \n",
            "_________________________________________________________________\n",
            "dense_4 (Dense)              (None, 64)                2112      \n",
            "_________________________________________________________________\n",
            "batch_normalization_3 (Batch (None, 64)                256       \n",
            "_________________________________________________________________\n",
            "leaky_re_lu_3 (LeakyReLU)    (None, 64)                0         \n",
            "_________________________________________________________________\n",
            "dense_5 (Dense)              (None, 32)                2080      \n",
            "=================================================================\n",
            "Total params: 10,224\n",
            "Trainable params: 9,840\n",
            "Non-trainable params: 384\n",
            "_________________________________________________________________\n"
          ]
        },
        {
          "name": "stderr",
          "output_type": "stream",
          "text": [
            "2022-05-19 16:40:37.088001: I tensorflow/stream_executor/cuda/cuda_gpu_executor.cc:937] successful NUMA node read from SysFS had negative value (-1), but there must be at least one NUMA node, so returning NUMA node zero\n",
            "2022-05-19 16:40:37.088717: I tensorflow/stream_executor/cuda/cuda_gpu_executor.cc:937] successful NUMA node read from SysFS had negative value (-1), but there must be at least one NUMA node, so returning NUMA node zero\n",
            "2022-05-19 16:40:37.090346: I tensorflow/core/platform/cpu_feature_guard.cc:142] This TensorFlow binary is optimized with oneAPI Deep Neural Network Library (oneDNN) to use the following CPU instructions in performance-critical operations:  AVX2 AVX512F FMA\n",
            "To enable them in other operations, rebuild TensorFlow with the appropriate compiler flags.\n",
            "2022-05-19 16:40:37.090662: I tensorflow/stream_executor/cuda/cuda_gpu_executor.cc:937] successful NUMA node read from SysFS had negative value (-1), but there must be at least one NUMA node, so returning NUMA node zero\n",
            "2022-05-19 16:40:37.091589: I tensorflow/stream_executor/cuda/cuda_gpu_executor.cc:937] successful NUMA node read from SysFS had negative value (-1), but there must be at least one NUMA node, so returning NUMA node zero\n",
            "2022-05-19 16:40:37.092551: I tensorflow/stream_executor/cuda/cuda_gpu_executor.cc:937] successful NUMA node read from SysFS had negative value (-1), but there must be at least one NUMA node, so returning NUMA node zero\n",
            "2022-05-19 16:40:38.921871: I tensorflow/stream_executor/cuda/cuda_gpu_executor.cc:937] successful NUMA node read from SysFS had negative value (-1), but there must be at least one NUMA node, so returning NUMA node zero\n",
            "2022-05-19 16:40:38.922719: I tensorflow/stream_executor/cuda/cuda_gpu_executor.cc:937] successful NUMA node read from SysFS had negative value (-1), but there must be at least one NUMA node, so returning NUMA node zero\n",
            "2022-05-19 16:40:38.923438: I tensorflow/stream_executor/cuda/cuda_gpu_executor.cc:937] successful NUMA node read from SysFS had negative value (-1), but there must be at least one NUMA node, so returning NUMA node zero\n",
            "2022-05-19 16:40:38.924762: I tensorflow/core/common_runtime/gpu/gpu_device.cc:1510] Created device /job:localhost/replica:0/task:0/device:GPU:0 with 15417 MB memory:  -> device: 0, name: Tesla P100-PCIE-16GB, pci bus id: 0000:00:04.0, compute capability: 6.0\n"
          ]
        }
      ],
      "source": [
        "input_dim = merged_pca_df.shape[1] \n",
        "\n",
        "encoder_decoder = Sequential(\n",
        "    [\n",
        "        Dense(64, input_shape = (input_dim, )),\n",
        "        BatchNormalization(),\n",
        "        LeakyReLU(),\n",
        "        Dense(32),\n",
        "        BatchNormalization(),\n",
        "        LeakyReLU(),\n",
        "        Dense(16),\n",
        "        Dense(32),\n",
        "        BatchNormalization(),\n",
        "        LeakyReLU(),\n",
        "        Dense(64),\n",
        "        BatchNormalization(),\n",
        "        LeakyReLU(),\n",
        "        Dense(input_dim, activation = 'linear')\n",
        "        \n",
        "    ]\n",
        ")\n",
        "\n",
        "auto_encoder = Model(inputs = encoder_decoder.input, outputs = encoder_decoder.output)\n",
        "auto_encoder.summary()"
      ]
    },
    {
      "cell_type": "code",
      "execution_count": null,
      "id": "02a72bed",
      "metadata": {
        "execution": {
          "iopub.execute_input": "2022-05-19T16:40:39.426506Z",
          "iopub.status.busy": "2022-05-19T16:40:39.425597Z",
          "iopub.status.idle": "2022-05-19T16:43:02.452506Z",
          "shell.execute_reply": "2022-05-19T16:43:02.451750Z"
        },
        "papermill": {
          "duration": 143.070712,
          "end_time": "2022-05-19T16:43:02.454856",
          "exception": false,
          "start_time": "2022-05-19T16:40:39.384144",
          "status": "completed"
        },
        "tags": [],
        "id": "02a72bed",
        "outputId": "9b9656a2-3866-482e-8616-736f6d6e6b66"
      },
      "outputs": [
        {
          "name": "stderr",
          "output_type": "stream",
          "text": [
            "2022-05-19 16:40:39.644377: I tensorflow/compiler/mlir/mlir_graph_optimization_pass.cc:185] None of the MLIR Optimization Passes are enabled (registered 2)\n"
          ]
        },
        {
          "name": "stdout",
          "output_type": "stream",
          "text": [
            "Epoch 1/10\n",
            "3125/3125 [==============================] - 12s 3ms/step - loss: 0.0209\n",
            "Epoch 2/10\n",
            "3125/3125 [==============================] - 10s 3ms/step - loss: 0.0095\n",
            "Epoch 3/10\n",
            "3125/3125 [==============================] - 10s 3ms/step - loss: 0.0087\n",
            "Epoch 4/10\n",
            "3125/3125 [==============================] - 10s 3ms/step - loss: 0.0084\n",
            "Epoch 5/10\n",
            "3125/3125 [==============================] - 10s 3ms/step - loss: 0.0082\n",
            "Epoch 6/10\n",
            "3125/3125 [==============================] - 10s 3ms/step - loss: 0.0082\n",
            "Epoch 7/10\n",
            "3125/3125 [==============================] - 10s 3ms/step - loss: 0.0081\n",
            "Epoch 8/10\n",
            "3125/3125 [==============================] - 9s 3ms/step - loss: 0.0081\n",
            "Epoch 9/10\n",
            "3125/3125 [==============================] - 9s 3ms/step - loss: 0.0080\n",
            "Epoch 10/10\n",
            "3125/3125 [==============================] - 10s 3ms/step - loss: 0.0080\n"
          ]
        }
      ],
      "source": [
        "auto_encoder.compile(loss = 'mse', optimizer = 'adam')\n",
        "\n",
        "epochs = 10\n",
        "index_merged_pca = np.random.choice(np.arange(merged_pca_df.shape[0]), int(merged_pca_df.shape[0] / 4))\n",
        "\n",
        "auto_encoder_history = auto_encoder.fit(\n",
        "    merged_pca_df.iloc[index_merged_pca].values, #Can we add noise? + np.random.normal(0.5, 0.15, size = merged_pca_df.iloc[index_merged_pca].shape)\n",
        "    merged_pca_df.iloc[index_merged_pca].values,\n",
        "    batch_size = 32,\n",
        "    epochs = epochs\n",
        ")"
      ]
    },
    {
      "cell_type": "code",
      "execution_count": null,
      "id": "3fc650d4",
      "metadata": {
        "execution": {
          "iopub.execute_input": "2022-05-19T16:43:03.703529Z",
          "iopub.status.busy": "2022-05-19T16:43:03.703278Z",
          "iopub.status.idle": "2022-05-19T16:43:25.084252Z",
          "shell.execute_reply": "2022-05-19T16:43:25.083541Z"
        },
        "papermill": {
          "duration": 22.010268,
          "end_time": "2022-05-19T16:43:25.086163",
          "exception": false,
          "start_time": "2022-05-19T16:43:03.075895",
          "status": "completed"
        },
        "tags": [],
        "id": "3fc650d4",
        "outputId": "f4c69e86-59fd-4c70-91bd-4c74035037fa"
      },
      "outputs": [
        {
          "data": {
            "text/html": [
              "<div>\n",
              "<style scoped>\n",
              "    .dataframe tbody tr th:only-of-type {\n",
              "        vertical-align: middle;\n",
              "    }\n",
              "\n",
              "    .dataframe tbody tr th {\n",
              "        vertical-align: top;\n",
              "    }\n",
              "\n",
              "    .dataframe thead th {\n",
              "        text-align: right;\n",
              "    }\n",
              "</style>\n",
              "<table border=\"1\" class=\"dataframe\">\n",
              "  <thead>\n",
              "    <tr style=\"text-align: right;\">\n",
              "      <th></th>\n",
              "      <th>var_0</th>\n",
              "      <th>var_1</th>\n",
              "      <th>var_2</th>\n",
              "      <th>var_3</th>\n",
              "      <th>var_4</th>\n",
              "      <th>var_5</th>\n",
              "      <th>var_6</th>\n",
              "      <th>var_7</th>\n",
              "      <th>var_8</th>\n",
              "      <th>var_9</th>\n",
              "      <th>...</th>\n",
              "      <th>dae_22</th>\n",
              "      <th>dae_23</th>\n",
              "      <th>dae_24</th>\n",
              "      <th>dae_25</th>\n",
              "      <th>dae_26</th>\n",
              "      <th>dae_27</th>\n",
              "      <th>dae_28</th>\n",
              "      <th>dae_29</th>\n",
              "      <th>dae_30</th>\n",
              "      <th>dae_31</th>\n",
              "    </tr>\n",
              "  </thead>\n",
              "  <tbody>\n",
              "    <tr>\n",
              "      <th>0</th>\n",
              "      <td>0.394711</td>\n",
              "      <td>0.324824</td>\n",
              "      <td>0.568059</td>\n",
              "      <td>0.388041</td>\n",
              "      <td>0.550670</td>\n",
              "      <td>0.467301</td>\n",
              "      <td>0.465762</td>\n",
              "      <td>0.578688</td>\n",
              "      <td>0.270395</td>\n",
              "      <td>0.247420</td>\n",
              "      <td>...</td>\n",
              "      <td>0.438449</td>\n",
              "      <td>0.497913</td>\n",
              "      <td>0.470524</td>\n",
              "      <td>0.494273</td>\n",
              "      <td>0.467798</td>\n",
              "      <td>0.475881</td>\n",
              "      <td>0.494015</td>\n",
              "      <td>0.503242</td>\n",
              "      <td>0.372046</td>\n",
              "      <td>0.487442</td>\n",
              "    </tr>\n",
              "    <tr>\n",
              "      <th>1</th>\n",
              "      <td>0.511048</td>\n",
              "      <td>0.428639</td>\n",
              "      <td>0.681235</td>\n",
              "      <td>0.410417</td>\n",
              "      <td>0.628408</td>\n",
              "      <td>0.795039</td>\n",
              "      <td>0.546339</td>\n",
              "      <td>0.487471</td>\n",
              "      <td>0.660911</td>\n",
              "      <td>0.573056</td>\n",
              "      <td>...</td>\n",
              "      <td>0.459634</td>\n",
              "      <td>0.489418</td>\n",
              "      <td>0.463228</td>\n",
              "      <td>0.502017</td>\n",
              "      <td>0.467079</td>\n",
              "      <td>0.513511</td>\n",
              "      <td>0.449841</td>\n",
              "      <td>0.474393</td>\n",
              "      <td>0.483466</td>\n",
              "      <td>0.743120</td>\n",
              "    </tr>\n",
              "  </tbody>\n",
              "</table>\n",
              "<p>2 rows × 264 columns</p>\n",
              "</div>"
            ],
            "text/plain": [
              "      var_0     var_1     var_2     var_3     var_4     var_5     var_6  \\\n",
              "0  0.394711  0.324824  0.568059  0.388041  0.550670  0.467301  0.465762   \n",
              "1  0.511048  0.428639  0.681235  0.410417  0.628408  0.795039  0.546339   \n",
              "\n",
              "      var_7     var_8     var_9  ...    dae_22    dae_23    dae_24    dae_25  \\\n",
              "0  0.578688  0.270395  0.247420  ...  0.438449  0.497913  0.470524  0.494273   \n",
              "1  0.487471  0.660911  0.573056  ...  0.459634  0.489418  0.463228  0.502017   \n",
              "\n",
              "     dae_26    dae_27    dae_28    dae_29    dae_30    dae_31  \n",
              "0  0.467798  0.475881  0.494015  0.503242  0.372046  0.487442  \n",
              "1  0.467079  0.513511  0.449841  0.474393  0.483466  0.743120  \n",
              "\n",
              "[2 rows x 264 columns]"
            ]
          },
          "execution_count": 14,
          "metadata": {},
          "output_type": "execute_result"
        }
      ],
      "source": [
        "merged_dae = auto_encoder.predict(merged_pca_df.values)\n",
        "merged_dae_df = pd.DataFrame(merged_dae)\n",
        "merged_dae_df = merged_dae_df.add_prefix('dae_')\n",
        "merged_pca_dae = pd.concat([merged_minmax_pca_df, merged_dae_df], axis = 1)\n",
        "\n",
        "del merged_dae, merged_pca_df, merged_dae_df, auto_encoder_history, index_merged_pca\n",
        "_ = gc.collect()\n",
        "\n",
        "merged_pca_dae.head(2)"
      ]
    },
    {
      "cell_type": "code",
      "execution_count": null,
      "id": "af2c7d95",
      "metadata": {
        "execution": {
          "iopub.execute_input": "2022-05-19T16:43:26.410766Z",
          "iopub.status.busy": "2022-05-19T16:43:26.410491Z",
          "iopub.status.idle": "2022-05-19T16:43:33.815431Z",
          "shell.execute_reply": "2022-05-19T16:43:33.814764Z"
        },
        "papermill": {
          "duration": 8.069985,
          "end_time": "2022-05-19T16:43:33.817959",
          "exception": false,
          "start_time": "2022-05-19T16:43:25.747974",
          "status": "completed"
        },
        "tags": [],
        "id": "af2c7d95",
        "outputId": "af6d9405-0543-4cb8-f62c-b9bcb16f5d14"
      },
      "outputs": [
        {
          "data": {
            "image/png": "[encoded data removed]",
            "text/plain": [
              "<Figure size 1584x720 with 3 Axes>"
            ]
          },
          "metadata": {
            "needs_background": "light"
          },
          "output_type": "display_data"
        }
      ],
      "source": [
        "_ = stat_detector(merged_pca_dae)"
      ]
    },
    {
      "cell_type": "code",
      "execution_count": null,
      "id": "d900bfdb",
      "metadata": {
        "execution": {
          "iopub.execute_input": "2022-05-19T16:43:35.060461Z",
          "iopub.status.busy": "2022-05-19T16:43:35.060201Z",
          "iopub.status.idle": "2022-05-19T16:43:36.920079Z",
          "shell.execute_reply": "2022-05-19T16:43:36.919334Z"
        },
        "papermill": {
          "duration": 2.480531,
          "end_time": "2022-05-19T16:43:36.922106",
          "exception": false,
          "start_time": "2022-05-19T16:43:34.441575",
          "status": "completed"
        },
        "tags": [],
        "id": "d900bfdb"
      },
      "outputs": [],
      "source": [
        "X_train, X_dev, y_train, y_dev = train_test_split(merged_pca_dae[:train_len], y, test_size = 0.3, shuffle = True, stratify = y)\n",
        "\n",
        "stnd_scaler = StandardScaler().fit(X_train)\n",
        "X_train_scaled = stnd_scaler.transform(X_train)\n",
        "X_dev_scaled = stnd_scaler.transform(X_dev)\n",
        "X_test_scaled = stnd_scaler.transform(merged_pca_dae[train_len:])\n",
        "\n",
        "del merged_pca_dae, stnd_scaler\n",
        "_ = gc.collect()"
      ]
    },
    {
      "cell_type": "markdown",
      "id": "265b3920",
      "metadata": {
        "papermill": {
          "duration": 0.624479,
          "end_time": "2022-05-19T16:43:38.185823",
          "exception": false,
          "start_time": "2022-05-19T16:43:37.561344",
          "status": "completed"
        },
        "tags": [],
        "id": "265b3920"
      },
      "source": [
        "# 4. Modeling <a id = 4> </a>"
      ]
    },
    {
      "cell_type": "markdown",
      "id": "5297f998",
      "metadata": {
        "papermill": {
          "duration": 0.620223,
          "end_time": "2022-05-19T16:43:39.430295",
          "exception": false,
          "start_time": "2022-05-19T16:43:38.810072",
          "status": "completed"
        },
        "tags": [],
        "id": "5297f998"
      },
      "source": [
        "## 4.1. Logistic Regression <a id = 7> </a>"
      ]
    },
    {
      "cell_type": "code",
      "execution_count": null,
      "id": "2cea44d8",
      "metadata": {
        "execution": {
          "iopub.execute_input": "2022-05-19T16:43:40.698339Z",
          "iopub.status.busy": "2022-05-19T16:43:40.698084Z",
          "iopub.status.idle": "2022-05-19T16:44:58.715956Z",
          "shell.execute_reply": "2022-05-19T16:44:58.715117Z"
        },
        "papermill": {
          "duration": 79.270685,
          "end_time": "2022-05-19T16:44:59.339414",
          "exception": false,
          "start_time": "2022-05-19T16:43:40.068729",
          "status": "completed"
        },
        "tags": [],
        "id": "2cea44d8",
        "outputId": "34e6e692-5c96-4177-d2b7-7033b69c5039"
      },
      "outputs": [
        {
          "name": "stdout",
          "output_type": "stream",
          "text": [
            "Best parameters: {'C': 0.001}\n"
          ]
        }
      ],
      "source": [
        "param_grid_lr = {\n",
        "    'C': [0.001, 0.01]\n",
        "}\n",
        "\n",
        "lr = LogisticRegression(penalty = 'l2', solver = 'sag', class_weight = 'balanced', random_state = 0)\n",
        "\n",
        "grid_lr = GridSearchCV(\n",
        "    estimator = lr, \n",
        "    param_grid = param_grid_lr, \n",
        "    scoring='roc_auc',\n",
        "    cv = 3, \n",
        "    refit = True, \n",
        "    n_jobs = -1\n",
        ")\n",
        "\n",
        "grid_lr.fit(X_train_scaled, y_train)\n",
        "\n",
        "print(f\"Best parameters: {grid_lr.best_params_}\")"
      ]
    },
    {
      "cell_type": "code",
      "execution_count": null,
      "id": "9938c971",
      "metadata": {
        "execution": {
          "iopub.execute_input": "2022-05-19T16:45:00.775591Z",
          "iopub.status.busy": "2022-05-19T16:45:00.775331Z",
          "iopub.status.idle": "2022-05-19T16:45:01.010449Z",
          "shell.execute_reply": "2022-05-19T16:45:01.009339Z"
        },
        "papermill": {
          "duration": 0.978402,
          "end_time": "2022-05-19T16:45:01.013413",
          "exception": false,
          "start_time": "2022-05-19T16:45:00.035011",
          "status": "completed"
        },
        "tags": [],
        "id": "9938c971",
        "outputId": "55282aec-344d-4384-e37b-3b1f2e549bfc"
      },
      "outputs": [
        {
          "name": "stdout",
          "output_type": "stream",
          "text": [
            "AUC score for dev dataset using LogisticRegression: 0.861\n"
          ]
        }
      ],
      "source": [
        "y_pred_lr = grid_lr.predict_proba(X_dev_scaled)[:, 1]\n",
        "y_pred_lr_final = grid_lr.predict_proba(X_test_scaled)[:, 1]\n",
        "\n",
        "print(f'AUC score for dev dataset using LogisticRegression: {roc_auc_score(y_dev, y_pred_lr):0.3f}')"
      ]
    },
    {
      "cell_type": "markdown",
      "id": "4cabfdcf",
      "metadata": {
        "papermill": {
          "duration": 0.698045,
          "end_time": "2022-05-19T16:45:02.881978",
          "exception": false,
          "start_time": "2022-05-19T16:45:02.183933",
          "status": "completed"
        },
        "tags": [],
        "id": "4cabfdcf"
      },
      "source": [
        "## 4.2. LightGBM <a id = 8> </a>"
      ]
    },
    {
      "cell_type": "code",
      "execution_count": null,
      "id": "74265215",
      "metadata": {
        "execution": {
          "iopub.execute_input": "2022-05-19T16:45:04.136559Z",
          "iopub.status.busy": "2022-05-19T16:45:04.136293Z",
          "iopub.status.idle": "2022-05-19T16:47:36.979103Z",
          "shell.execute_reply": "2022-05-19T16:47:36.977686Z"
        },
        "papermill": {
          "duration": 154.111703,
          "end_time": "2022-05-19T16:47:37.617107",
          "exception": false,
          "start_time": "2022-05-19T16:45:03.505404",
          "status": "completed"
        },
        "tags": [],
        "id": "74265215",
        "outputId": "b707ad7a-678d-43d9-b9a1-81830d512078"
      },
      "outputs": [
        {
          "name": "stdout",
          "output_type": "stream",
          "text": [
            "Best parameters: {'reg_alpha': 0.1, 'reg_lambda': 0.1}\n"
          ]
        }
      ],
      "source": [
        "lgb_model = lgb.LGBMClassifier(\n",
        "    objective = 'binary',\n",
        "    learning_rate = 0.07,\n",
        "    num_leaves = 20,\n",
        "    n_estimators = 500, \n",
        "    max_depth = 8,\n",
        "    class_weight = 'balanced',\n",
        "    subsample = 1,\n",
        "    colsample_bytree = 1,\n",
        "    metric = 'auc',\n",
        "    device = 'gpu',\n",
        "    gpu_platform_id = 0,\n",
        "    gpu_device_id = 0,\n",
        "    random_state = 0                          \n",
        ")\n",
        "\n",
        "param_grid_lgb = {\n",
        "    'reg_alpha': [0.1, 1],\n",
        "    'reg_lambda': [0.1, 1]\n",
        "}\n",
        "\n",
        "grid_lgb = GridSearchCV(\n",
        "    estimator = lgb_model, \n",
        "    param_grid = param_grid_lgb,\n",
        "    scoring='roc_auc',\n",
        "    cv = 3, \n",
        "    refit = True, \n",
        "    n_jobs = -1\n",
        ")\n",
        "\n",
        "grid_lgb.fit(X_train_scaled, y_train)\n",
        "\n",
        "print(f\"Best parameters: {grid_lgb.best_params_}\")"
      ]
    },
    {
      "cell_type": "code",
      "execution_count": null,
      "id": "7c551587",
      "metadata": {
        "execution": {
          "iopub.execute_input": "2022-05-19T16:47:38.868603Z",
          "iopub.status.busy": "2022-05-19T16:47:38.868332Z",
          "iopub.status.idle": "2022-05-19T16:47:48.385558Z",
          "shell.execute_reply": "2022-05-19T16:47:48.384304Z"
        },
        "papermill": {
          "duration": 10.146979,
          "end_time": "2022-05-19T16:47:48.387355",
          "exception": false,
          "start_time": "2022-05-19T16:47:38.240376",
          "status": "completed"
        },
        "tags": [],
        "id": "7c551587",
        "outputId": "ce070c29-30de-459e-83ec-2a65274b6a91"
      },
      "outputs": [
        {
          "name": "stdout",
          "output_type": "stream",
          "text": [
            "AUC score for dev dataset using LightGBM: 0.890\n"
          ]
        }
      ],
      "source": [
        "y_pred_lgb = grid_lgb.predict_proba(X_dev_scaled)[:, 1]\n",
        "y_pred_lgb_final = grid_lgb.predict_proba(X_test_scaled)[:, 1]\n",
        "\n",
        "print(f'AUC score for dev dataset using LightGBM: {roc_auc_score(y_dev, y_pred_lgb):0.3f}')"
      ]
    },
    {
      "cell_type": "markdown",
      "id": "8fde8930",
      "metadata": {
        "papermill": {
          "duration": 0.633537,
          "end_time": "2022-05-19T16:47:49.650618",
          "exception": false,
          "start_time": "2022-05-19T16:47:49.017081",
          "status": "completed"
        },
        "tags": [],
        "id": "8fde8930"
      },
      "source": [
        "## 4.3. Wrap-up and get the output <a id = 9> </a>"
      ]
    },
    {
      "cell_type": "code",
      "execution_count": null,
      "id": "fc610952",
      "metadata": {
        "execution": {
          "iopub.execute_input": "2022-05-19T16:47:50.903525Z",
          "iopub.status.busy": "2022-05-19T16:47:50.903265Z",
          "iopub.status.idle": "2022-05-19T16:47:51.145090Z",
          "shell.execute_reply": "2022-05-19T16:47:51.144439Z"
        },
        "papermill": {
          "duration": 0.868162,
          "end_time": "2022-05-19T16:47:51.146977",
          "exception": false,
          "start_time": "2022-05-19T16:47:50.278815",
          "status": "completed"
        },
        "tags": [],
        "id": "fc610952",
        "outputId": "74cf6c30-2685-4976-ec9b-b46d6be232f7"
      },
      "outputs": [
        {
          "data": {
            "text/plain": [
              "(0.7, 0.92)"
            ]
          },
          "execution_count": 21,
          "metadata": {},
          "output_type": "execute_result"
        },
        {
          "data": {
            "image/png": "[encoded data removed]",
            "text/plain": [
              "<Figure size 1584x360 with 1 Axes>"
            ]
          },
          "metadata": {
            "needs_background": "light"
          },
          "output_type": "display_data"
        }
      ],
      "source": [
        "AUC_df = pd.DataFrame(\n",
        "    dict(\n",
        "    model = ['Logistic Regression', 'LightGBM'],\n",
        "    score = [roc_auc_score(y_dev, y_pred_lr), roc_auc_score(y_dev, y_pred_lgb)]\n",
        "    )\n",
        ")\n",
        "\n",
        "\n",
        "plt.figure(figsize = (22, 5))\n",
        "ax = sns.barplot(data = AUC_df, x = 'model', y = 'score')\n",
        "ax.bar_label(ax.containers[0], fontsize = 15)\n",
        "ax.set_xlabel('AUC-ROC score', fontsize = 15)\n",
        "ax.set_ylabel('Model', fontsize = 15)\n",
        "ax.set_ylim([0.7, 0.92])"
      ]
    },
    {
      "cell_type": "code",
      "execution_count": null,
      "id": "2a4c49d1",
      "metadata": {
        "execution": {
          "iopub.execute_input": "2022-05-19T16:47:52.405849Z",
          "iopub.status.busy": "2022-05-19T16:47:52.405576Z",
          "iopub.status.idle": "2022-05-19T16:47:52.429231Z",
          "shell.execute_reply": "2022-05-19T16:47:52.428570Z"
        },
        "papermill": {
          "duration": 0.655544,
          "end_time": "2022-05-19T16:47:52.431422",
          "exception": false,
          "start_time": "2022-05-19T16:47:51.775878",
          "status": "completed"
        },
        "tags": [],
        "id": "2a4c49d1",
        "outputId": "abf8d2e8-9dde-4a0c-982d-225ad51cda50"
      },
      "outputs": [
        {
          "data": {
            "text/html": [
              "<div>\n",
              "<style scoped>\n",
              "    .dataframe tbody tr th:only-of-type {\n",
              "        vertical-align: middle;\n",
              "    }\n",
              "\n",
              "    .dataframe tbody tr th {\n",
              "        vertical-align: top;\n",
              "    }\n",
              "\n",
              "    .dataframe thead th {\n",
              "        text-align: right;\n",
              "    }\n",
              "</style>\n",
              "<table border=\"1\" class=\"dataframe\">\n",
              "  <thead>\n",
              "    <tr style=\"text-align: right;\">\n",
              "      <th></th>\n",
              "      <th>ID_code</th>\n",
              "      <th>target</th>\n",
              "    </tr>\n",
              "  </thead>\n",
              "  <tbody>\n",
              "    <tr>\n",
              "      <th>0</th>\n",
              "      <td>test_0</td>\n",
              "      <td>0.327899</td>\n",
              "    </tr>\n",
              "    <tr>\n",
              "      <th>1</th>\n",
              "      <td>test_1</td>\n",
              "      <td>0.778603</td>\n",
              "    </tr>\n",
              "    <tr>\n",
              "      <th>2</th>\n",
              "      <td>test_2</td>\n",
              "      <td>0.562155</td>\n",
              "    </tr>\n",
              "    <tr>\n",
              "      <th>3</th>\n",
              "      <td>test_3</td>\n",
              "      <td>0.603873</td>\n",
              "    </tr>\n",
              "    <tr>\n",
              "      <th>4</th>\n",
              "      <td>test_4</td>\n",
              "      <td>0.221265</td>\n",
              "    </tr>\n",
              "    <tr>\n",
              "      <th>...</th>\n",
              "      <td>...</td>\n",
              "      <td>...</td>\n",
              "    </tr>\n",
              "    <tr>\n",
              "      <th>199995</th>\n",
              "      <td>test_199995</td>\n",
              "      <td>0.101695</td>\n",
              "    </tr>\n",
              "    <tr>\n",
              "      <th>199996</th>\n",
              "      <td>test_199996</td>\n",
              "      <td>0.047033</td>\n",
              "    </tr>\n",
              "    <tr>\n",
              "      <th>199997</th>\n",
              "      <td>test_199997</td>\n",
              "      <td>0.019210</td>\n",
              "    </tr>\n",
              "    <tr>\n",
              "      <th>199998</th>\n",
              "      <td>test_199998</td>\n",
              "      <td>0.366847</td>\n",
              "    </tr>\n",
              "    <tr>\n",
              "      <th>199999</th>\n",
              "      <td>test_199999</td>\n",
              "      <td>0.344060</td>\n",
              "    </tr>\n",
              "  </tbody>\n",
              "</table>\n",
              "<p>200000 rows × 2 columns</p>\n",
              "</div>"
            ],
            "text/plain": [
              "            ID_code    target\n",
              "0            test_0  0.327899\n",
              "1            test_1  0.778603\n",
              "2            test_2  0.562155\n",
              "3            test_3  0.603873\n",
              "4            test_4  0.221265\n",
              "...             ...       ...\n",
              "199995  test_199995  0.101695\n",
              "199996  test_199996  0.047033\n",
              "199997  test_199997  0.019210\n",
              "199998  test_199998  0.366847\n",
              "199999  test_199999  0.344060\n",
              "\n",
              "[200000 rows x 2 columns]"
            ]
          },
          "execution_count": 22,
          "metadata": {},
          "output_type": "execute_result"
        }
      ],
      "source": [
        "output = pd.DataFrame(\n",
        "    {\n",
        "    'ID_code': [],\n",
        "    'target': []   \n",
        "    }\n",
        ")\n",
        "\n",
        "output['ID_code'] = id_test\n",
        "output['target'] = y_pred_lgb_final\n",
        "\n",
        "output"
      ]
    },
    {
      "cell_type": "code",
      "execution_count": null,
      "id": "6ea309d1",
      "metadata": {
        "execution": {
          "iopub.execute_input": "2022-05-19T16:47:53.705222Z",
          "iopub.status.busy": "2022-05-19T16:47:53.704931Z",
          "iopub.status.idle": "2022-05-19T16:47:54.336772Z",
          "shell.execute_reply": "2022-05-19T16:47:54.336001Z"
        },
        "papermill": {
          "duration": 1.262202,
          "end_time": "2022-05-19T16:47:54.338913",
          "exception": false,
          "start_time": "2022-05-19T16:47:53.076711",
          "status": "completed"
        },
        "tags": [],
        "id": "6ea309d1"
      },
      "outputs": [],
      "source": [
        "output.to_csv('./submission.csv', index = False)"
      ]
    },
    {
      "cell_type": "markdown",
      "id": "9ff025da",
      "metadata": {
        "papermill": {
          "duration": 0.632914,
          "end_time": "2022-05-19T16:47:55.594815",
          "exception": false,
          "start_time": "2022-05-19T16:47:54.961901",
          "status": "completed"
        },
        "tags": [],
        "id": "9ff025da"
      },
      "source": [
        "# 5. Conclusions <a id = 5> </a>"
      ]
    },
    {
      "cell_type": "markdown",
      "id": "d60c27a6",
      "metadata": {
        "papermill": {
          "duration": 0.854816,
          "end_time": "2022-05-19T16:47:57.088015",
          "exception": false,
          "start_time": "2022-05-19T16:47:56.233199",
          "status": "completed"
        },
        "tags": [],
        "id": "d60c27a6"
      },
      "source": [
        "It is assumed that the optimal error rate is 0.92 (best AUC-ROC). Considering that our best AUC-ROC is 0.89, there is a considerable bias that can be avoided.</br>\n",
        "Besides these, I also just scaled the dataset and trained it with the LightGBM model without any further pre-processing. I obtained an AUC-ROC score of 0.88! In other words, all this pre-processing on the notebook hasn't really improved the score.Besides these, I also just scaled the dataset and trained it with the LightGBM model without any further pre-processing. I obtained an AUC-ROC score of 0.88! In other words, all this pre-processing on the notebook hasn't really improved the score."
      ]
    },
    {
      "cell_type": "markdown",
      "id": "b3049bcd",
      "metadata": {
        "papermill": {
          "duration": 0.680375,
          "end_time": "2022-05-19T16:47:58.403385",
          "exception": false,
          "start_time": "2022-05-19T16:47:57.723010",
          "status": "completed"
        },
        "tags": [],
        "id": "b3049bcd"
      },
      "source": [
        "# 6. References <a id = 6> </a>"
      ]
    },
    {
      "cell_type": "markdown",
      "id": "21399cf3",
      "metadata": {
        "papermill": {
          "duration": 0.636366,
          "end_time": "2022-05-19T16:47:59.662880",
          "exception": false,
          "start_time": "2022-05-19T16:47:59.026514",
          "status": "completed"
        },
        "tags": [],
        "id": "21399cf3"
      },
      "source": [
        "- <a href = 'https://ekamperi.github.io/machine%20learning/2021/01/21/encoder-decoder-model.html'>The encoder-decoder model as a dimensionality reduction technique</a>"
      ]
    }
  ],
  "metadata": {
    "kernelspec": {
      "display_name": "Python 3",
      "language": "python",
      "name": "python3"
    },
    "language_info": {
      "codemirror_mode": {
        "name": "ipython",
        "version": 3
      },
      "file_extension": ".py",
      "mimetype": "text/x-python",
      "name": "python",
      "nbconvert_exporter": "python",
      "pygments_lexer": "ipython3",
      "version": "3.7.12"
    },
    "papermill": {
      "default_parameters": {},
      "duration": 511.780757,
      "end_time": "2022-05-19T16:48:03.018521",
      "environment_variables": {},
      "exception": null,
      "input_path": "__notebook__.ipynb",
      "output_path": "__notebook__.ipynb",
      "parameters": {},
      "start_time": "2022-05-19T16:39:31.237764",
      "version": "2.3.4"
    },
    "colab": {
      "name": "santander-customer-pca-dae-using-lr-lgbm.ipynb",
      "provenance": []
    }
  },
  "nbformat": 4,
  "nbformat_minor": 5
}